{
 "cells": [
  {
   "cell_type": "markdown",
   "metadata": {},
   "source": [
    "### Adatszétválasztó\n",
    "\n",
    "**Cél:**\n",
    "\n",
    "football-data.co.uk oldalról leszedett adatoknál vannak olyan bajnokságok, ahol nincs szezonokra lebontva külön csv fájl, hanem egy fájlban van több szezon\n",
    "\n",
    "ilyen fájlokat szed szét ez a notebook külön csv-kre"
   ]
  },
  {
   "cell_type": "code",
   "execution_count": 1,
   "metadata": {},
   "outputs": [],
   "source": [
    "import pandas as pd"
   ]
  },
  {
   "cell_type": "code",
   "execution_count": 28,
   "metadata": {},
   "outputs": [],
   "source": [
    "countries_dict = {'Argentina': 'ARG', 'Austria': 'AUT', 'Brazil': 'BRA', 'China': 'CHN',\n",
    "                  'Denmark': 'DNK', 'Finland': 'FIN', 'Ireland': 'IRL', 'Japan': 'JPN',\n",
    "                  'Mexico': 'MEX', 'Norway': 'NOR', 'Poland': 'POL', 'Romania': 'ROU',\n",
    "                  'Russia': 'RUS', 'Sweden': 'SWE', 'Switzerland': 'SWZ', 'USA': 'USA'}"
   ]
  },
  {
   "cell_type": "code",
   "execution_count": 3,
   "metadata": {},
   "outputs": [],
   "source": [
    "for country, code in countries_dict.items():\n",
    "    main_path = 'C:\\\\Users\\\\bodracskam\\\\Desktop\\\\fosztas\\\\football-data_adatok\\\\' + country + '\\\\1'\n",
    "    \n",
    "    \n",
    "    df = pd.read_csv(main_path + '\\\\' + code + '.csv')\n",
    "    \n",
    "    seasons = df['Season'].unique()\n",
    "\n",
    "    for season in seasons:\n",
    "        filt_df = df[df['Season'] == season]\n",
    "        \n",
    "        season = str(season)\n",
    "    \n",
    "        if '/' in season:\n",
    "            season_path = season.replace('/', '-')\n",
    "        else:\n",
    "            season_path = season\n",
    "    \n",
    "        filt_df.to_csv(main_path + \"\\\\\" + code + \"1_\" + season_path + \".csv\", index=False)"
   ]
  },
  {
   "cell_type": "code",
   "execution_count": null,
   "metadata": {},
   "outputs": [],
   "source": []
  }
 ],
 "metadata": {
  "kernelspec": {
   "display_name": "Python 3",
   "language": "python",
   "name": "python3"
  },
  "language_info": {
   "codemirror_mode": {
    "name": "ipython",
    "version": 3
   },
   "file_extension": ".py",
   "mimetype": "text/x-python",
   "name": "python",
   "nbconvert_exporter": "python",
   "pygments_lexer": "ipython3",
   "version": "3.7.6"
  }
 },
 "nbformat": 4,
 "nbformat_minor": 4
}
