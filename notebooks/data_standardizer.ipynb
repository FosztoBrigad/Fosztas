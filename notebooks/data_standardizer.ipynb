{
 "cells": [
  {
   "cell_type": "code",
   "execution_count": null,
   "metadata": {},
   "outputs": [],
   "source": [
    "import pandas as pd\n",
    "import numpy as np\n",
    "from pathlib import Path\n",
    "from datetime import datetime\n",
    "import os\n",
    "from collections import namedtuple"
   ]
  },
  {
   "cell_type": "code",
   "execution_count": null,
   "metadata": {},
   "outputs": [],
   "source": [
    "all_countries_dict = {'Argentina': 'ARG', 'Austria': 'AUT', 'Brazil': 'BRA', 'China': 'CHN',\n",
    "                  'Denmark': 'DNK', 'Finland': 'FIN', 'Ireland': 'IRL', 'Japan': 'JPN',\n",
    "                  'Mexico': 'MEX', 'Norway': 'NOR', 'Poland': 'POL', 'Romania': 'ROU',\n",
    "                  'Russia': 'RUS', 'Sweden': 'SWE', 'Switzerland': 'SWZ', 'USA': 'USA','England':'ENG','France':'FRA','Germany':'GER','Italy':'ITA',\n",
    "                'Netherlands': 'HOL','Belgium':'BEL','Portugal':'POR', 'Spain':'ESP','Turkey':'TUR','Greece':'GRE','Scotland':'SCO'}"
   ]
  },
  {
   "cell_type": "code",
   "execution_count": null,
   "metadata": {},
   "outputs": [],
   "source": [
    "countries_dict = {'Argentina': 'ARG', 'Austria': 'AUT', 'Brazil': 'BRA', 'China': 'CHN',\n",
    "                  'Denmark': 'DNK', 'Finland': 'FIN', 'Ireland': 'IRL', 'Japan': 'JPN',\n",
    "                  'Mexico': 'MEX', 'Norway': 'NOR', 'Poland': 'POL', 'Romania': 'ROU',\n",
    "                  'Russia': 'RUS', 'Sweden': 'SWE', 'Switzerland': 'SWZ', 'USA': 'USA'}"
   ]
  },
  {
   "cell_type": "markdown",
   "metadata": {},
   "source": [
    "Mindenek előtt csináljunk egy Extra és egy Main mappát amiben különszedjük a main és extra ligákat"
   ]
  },
  {
   "cell_type": "markdown",
   "metadata": {},
   "source": [
    "Első feladat: Az extra ligáknak a oszlopfőit ki kell cserélni a main ligákéknak a hasonlóival\n",
    "    Létrehozom a párokat dictionaryként (cimparok) amiket ki kell cserélni\n",
    "    majd a végigmegy a fileokon és átnevezi az oszlopokat a dictionary alapján"
   ]
  },
  {
   "cell_type": "code",
   "execution_count": null,
   "metadata": {},
   "outputs": [],
   "source": [
    "cimparok = {'Country':'Div','Home':'HomeTeam','Away':'AwayTeam', 'HG':'FTHG', 'AG':'FTAG', 'Res':'FTR','PH':'PSH','PD':'PSD','PA':'PSA'}"
   ]
  },
  {
   "cell_type": "code",
   "execution_count": null,
   "metadata": {},
   "outputs": [],
   "source": [
    "for country, code in countries_dict.items():\n",
    "    main_path = 'C:\\\\Users\\\\juranyid\\\\Desktop\\\\Fosztgit\\\\football-data_adatok\\\\extra' + country + '\\\\1'\n",
    "    df = pd.read_csv(main_path + '\\\\' + code + '1.csv')\n",
    "    df=df.rename(columns=cimparok)\n",
    "    df.to_csv(main_path + \"\\\\\" + code + \"1.csv\", index=False)"
   ]
  },
  {
   "cell_type": "markdown",
   "metadata": {},
   "source": [
    "a Div oszlopnál az extra ligákban az ország neveket cseréltem ki a code+'1'-re(mivel csak elsőosztály van)"
   ]
  },
  {
   "cell_type": "code",
   "execution_count": null,
   "metadata": {},
   "outputs": [],
   "source": [
    "for country, code in countries_dict.items():\n",
    "    main_path = 'C:\\\\Users\\\\juranyid\\\\Desktop\\\\Fosztgit\\\\football-data_adatok\\\\extra\\\\' + country + '\\\\1'\n",
    "    df = pd.read_csv(main_path + '\\\\' + code + '1.csv')\n",
    "    df['Div']=df['Div'].replace({country : code+'1'})\n",
    "    df.to_csv((main_path + '\\\\' + code + '1.csv'),index=False)"
   ]
  },
  {
   "cell_type": "markdown",
   "metadata": {},
   "source": [
    "Nézzük a main ligákat, végigmegy az összes csv fileon amit talál a main alatt majd a file nevéből kiolvassa a code+osztályt"
   ]
  },
  {
   "cell_type": "markdown",
   "metadata": {},
   "source": [
    "Majd ezzel felülírja a Div oszlopot"
   ]
  },
  {
   "cell_type": "markdown",
   "metadata": {},
   "source": [
    "Majd ad egy szezon oszlopot hozzá, szintén a címből kiolvasva"
   ]
  },
  {
   "cell_type": "code",
   "execution_count": 94,
   "metadata": {},
   "outputs": [],
   "source": [
    "File = namedtuple('File','name path')"
   ]
  },
  {
   "cell_type": "code",
   "execution_count": 239,
   "metadata": {},
   "outputs": [],
   "source": [
    "#starting path\n",
    "p =Path('C:/Users/juranyid/Desktop/Fosztgit/football-data_adatok_1/main/')"
   ]
  },
  {
   "cell_type": "code",
   "execution_count": 80,
   "metadata": {},
   "outputs": [],
   "source": [
    "for item in p.glob('**/*'):\n",
    "    if item.suffix in ['.csv']:\n",
    "      #  path = Path.resolve(item)\n",
    "        df=pd.read_csv(path,engine='python')\n",
    "        df['Season']=[str(item.name)[5:12].replace('-','/')]*len(df)\n",
    "        df['Div']=[str(item.name)[0:4]]*len(df)\n",
    "        df.to_csv(path,index=False)"
   ]
  },
  {
   "cell_type": "code",
   "execution_count": null,
   "metadata": {},
   "outputs": [],
   "source": []
  },
  {
   "cell_type": "markdown",
   "metadata": {},
   "source": [
    "#sorrend, DATE formátum kijavítása\n"
   ]
  },
  {
   "cell_type": "code",
   "execution_count": 96,
   "metadata": {},
   "outputs": [],
   "source": [
    "for item in p.glob('**/*'):\n",
    "    if item.suffix in ['.csv']:\n",
    "        path = Path.resolve(item)\n",
    "        df=pd.read_csv(path,engine='python')\n",
    "        df['Date']=pd.to_datetime(df['Date'],dayfirst=True)\n",
    "        df.to_csv(path,index=False)"
   ]
  },
  {
   "cell_type": "code",
   "execution_count": 220,
   "metadata": {},
   "outputs": [],
   "source": [
    "pe =Path('C:/Users/juranyid/Desktop/Fosztgit/football-data_adatok_1/extra/')"
   ]
  },
  {
   "cell_type": "code",
   "execution_count": 205,
   "metadata": {},
   "outputs": [],
   "source": [
    "for item in pe.glob('**/*'):\n",
    "    if item.suffix in ['.csv']:\n",
    "        path = Path.resolve(item)\n",
    "        df=pd.read_csv(path,engine='python')\n",
    "        df['Date']=pd.to_datetime(df['Date'],dayfirst=True)\n",
    "        df.to_csv(path,index=False)"
   ]
  },
  {
   "cell_type": "code",
   "execution_count": 243,
   "metadata": {},
   "outputs": [],
   "source": [
    "def change_column_order(df, col_name, index):\n",
    "    cols = df.columns.tolist()\n",
    "    cols.remove(col_name)\n",
    "    cols.insert(index, col_name)\n",
    "    df.dropna(subset=['HomeTeam'],inplace=True)\n",
    "    df=df[cols]\n",
    "    return df"
   ]
  },
  {
   "cell_type": "markdown",
   "metadata": {},
   "source": [
    "Kezdjük az extra ligákkal, töröljük ki az Na-t. De előbb separeteljük a dfeket szezononként"
   ]
  },
  {
   "cell_type": "code",
   "execution_count": 222,
   "metadata": {},
   "outputs": [],
   "source": [
    "for item in pe.glob('**/*'):\n",
    "    if item.suffix in ['.csv']:\n",
    "        path = Path.resolve(item)\n",
    "        df=pd.read_csv(path,engine='python')\n",
    "        df=change_column_order(df, 'Season',2)\n",
    "        df.to_csv(path,index=False)\n",
    "        "
   ]
  },
  {
   "cell_type": "markdown",
   "metadata": {},
   "source": [
    "Idáig: a már (lépés előtt) szeparált extra fileoknak második helyre tettük a Seasons oszlopot és kitöröltük a Nan-os sorokat"
   ]
  },
  {
   "cell_type": "code",
   "execution_count": 250,
   "metadata": {},
   "outputs": [
    {
     "data": {
      "text/html": [
       "<div>\n",
       "<style scoped>\n",
       "    .dataframe tbody tr th:only-of-type {\n",
       "        vertical-align: middle;\n",
       "    }\n",
       "\n",
       "    .dataframe tbody tr th {\n",
       "        vertical-align: top;\n",
       "    }\n",
       "\n",
       "    .dataframe thead th {\n",
       "        text-align: right;\n",
       "    }\n",
       "</style>\n",
       "<table border=\"1\" class=\"dataframe\">\n",
       "  <thead>\n",
       "    <tr style=\"text-align: right;\">\n",
       "      <th></th>\n",
       "      <th>Div</th>\n",
       "      <th>League</th>\n",
       "      <th>Season</th>\n",
       "      <th>Date</th>\n",
       "      <th>Time</th>\n",
       "      <th>HomeTeam</th>\n",
       "      <th>AwayTeam</th>\n",
       "      <th>FTHG</th>\n",
       "      <th>FTAG</th>\n",
       "      <th>FTR</th>\n",
       "      <th>PSH</th>\n",
       "      <th>PSD</th>\n",
       "      <th>PSA</th>\n",
       "      <th>MaxH</th>\n",
       "      <th>MaxD</th>\n",
       "      <th>MaxA</th>\n",
       "      <th>AvgH</th>\n",
       "      <th>AvgD</th>\n",
       "      <th>AvgA</th>\n",
       "    </tr>\n",
       "  </thead>\n",
       "  <tbody>\n",
       "    <tr>\n",
       "      <th>0</th>\n",
       "      <td>USA1</td>\n",
       "      <td>MLS</td>\n",
       "      <td>2020</td>\n",
       "      <td>2020-02-29</td>\n",
       "      <td>18:00</td>\n",
       "      <td>DC United</td>\n",
       "      <td>Colorado Rapids</td>\n",
       "      <td>1</td>\n",
       "      <td>2</td>\n",
       "      <td>A</td>\n",
       "      <td>2.09</td>\n",
       "      <td>3.59</td>\n",
       "      <td>3.53</td>\n",
       "      <td>2.15</td>\n",
       "      <td>3.74</td>\n",
       "      <td>3.60</td>\n",
       "      <td>2.06</td>\n",
       "      <td>3.55</td>\n",
       "      <td>3.39</td>\n",
       "    </tr>\n",
       "    <tr>\n",
       "      <th>1</th>\n",
       "      <td>USA1</td>\n",
       "      <td>MLS</td>\n",
       "      <td>2020</td>\n",
       "      <td>2020-02-29</td>\n",
       "      <td>20:00</td>\n",
       "      <td>Montreal Impact</td>\n",
       "      <td>New England Revolution</td>\n",
       "      <td>2</td>\n",
       "      <td>1</td>\n",
       "      <td>H</td>\n",
       "      <td>2.92</td>\n",
       "      <td>3.44</td>\n",
       "      <td>2.46</td>\n",
       "      <td>2.92</td>\n",
       "      <td>3.50</td>\n",
       "      <td>2.63</td>\n",
       "      <td>2.78</td>\n",
       "      <td>3.38</td>\n",
       "      <td>2.46</td>\n",
       "    </tr>\n",
       "    <tr>\n",
       "      <th>2</th>\n",
       "      <td>USA1</td>\n",
       "      <td>MLS</td>\n",
       "      <td>2020</td>\n",
       "      <td>2020-02-29</td>\n",
       "      <td>20:30</td>\n",
       "      <td>Houston Dynamo</td>\n",
       "      <td>Los Angeles Galaxy</td>\n",
       "      <td>1</td>\n",
       "      <td>1</td>\n",
       "      <td>D</td>\n",
       "      <td>2.15</td>\n",
       "      <td>3.83</td>\n",
       "      <td>3.18</td>\n",
       "      <td>2.19</td>\n",
       "      <td>3.95</td>\n",
       "      <td>3.36</td>\n",
       "      <td>2.10</td>\n",
       "      <td>3.77</td>\n",
       "      <td>3.14</td>\n",
       "    </tr>\n",
       "    <tr>\n",
       "      <th>3</th>\n",
       "      <td>USA1</td>\n",
       "      <td>MLS</td>\n",
       "      <td>2020</td>\n",
       "      <td>2020-02-29</td>\n",
       "      <td>22:30</td>\n",
       "      <td>San Jose Earthquakes</td>\n",
       "      <td>Toronto FC</td>\n",
       "      <td>2</td>\n",
       "      <td>2</td>\n",
       "      <td>D</td>\n",
       "      <td>1.93</td>\n",
       "      <td>3.97</td>\n",
       "      <td>3.72</td>\n",
       "      <td>1.97</td>\n",
       "      <td>4.00</td>\n",
       "      <td>3.90</td>\n",
       "      <td>1.89</td>\n",
       "      <td>3.84</td>\n",
       "      <td>3.65</td>\n",
       "    </tr>\n",
       "    <tr>\n",
       "      <th>4</th>\n",
       "      <td>USA1</td>\n",
       "      <td>MLS</td>\n",
       "      <td>2020</td>\n",
       "      <td>2020-02-29</td>\n",
       "      <td>23:00</td>\n",
       "      <td>FC Dallas</td>\n",
       "      <td>Philadelphia Union</td>\n",
       "      <td>2</td>\n",
       "      <td>0</td>\n",
       "      <td>H</td>\n",
       "      <td>1.93</td>\n",
       "      <td>3.84</td>\n",
       "      <td>3.88</td>\n",
       "      <td>1.97</td>\n",
       "      <td>3.84</td>\n",
       "      <td>4.10</td>\n",
       "      <td>1.90</td>\n",
       "      <td>3.66</td>\n",
       "      <td>3.79</td>\n",
       "    </tr>\n",
       "  </tbody>\n",
       "</table>\n",
       "</div>"
      ],
      "text/plain": [
       "    Div League  Season        Date   Time              HomeTeam  \\\n",
       "0  USA1    MLS    2020  2020-02-29  18:00             DC United   \n",
       "1  USA1    MLS    2020  2020-02-29  20:00       Montreal Impact   \n",
       "2  USA1    MLS    2020  2020-02-29  20:30        Houston Dynamo   \n",
       "3  USA1    MLS    2020  2020-02-29  22:30  San Jose Earthquakes   \n",
       "4  USA1    MLS    2020  2020-02-29  23:00             FC Dallas   \n",
       "\n",
       "                 AwayTeam  FTHG  FTAG FTR   PSH   PSD   PSA  MaxH  MaxD  MaxA  \\\n",
       "0         Colorado Rapids     1     2   A  2.09  3.59  3.53  2.15  3.74  3.60   \n",
       "1  New England Revolution     2     1   H  2.92  3.44  2.46  2.92  3.50  2.63   \n",
       "2      Los Angeles Galaxy     1     1   D  2.15  3.83  3.18  2.19  3.95  3.36   \n",
       "3              Toronto FC     2     2   D  1.93  3.97  3.72  1.97  4.00  3.90   \n",
       "4      Philadelphia Union     2     0   H  1.93  3.84  3.88  1.97  3.84  4.10   \n",
       "\n",
       "   AvgH  AvgD  AvgA  \n",
       "0  2.06  3.55  3.39  \n",
       "1  2.78  3.38  2.46  \n",
       "2  2.10  3.77  3.14  \n",
       "3  1.89  3.84  3.65  \n",
       "4  1.90  3.66  3.79  "
      ]
     },
     "execution_count": 250,
     "metadata": {},
     "output_type": "execute_result"
    }
   ],
   "source": [
    "extraliga"
   ]
  },
  {
   "cell_type": "code",
   "execution_count": 251,
   "metadata": {},
   "outputs": [],
   "source": [
    "for item in p.glob('**/*'):\n",
    "    if item.suffix in ['.csv']:\n",
    "        path = Path.resolve(item)\n",
    "        df=pd.read_csv(path,engine='python')\n",
    "        df=change_column_order(df, 'Season',1)\n",
    "        df.to_csv(path,index=False)"
   ]
  },
  {
   "cell_type": "code",
   "execution_count": 252,
   "metadata": {},
   "outputs": [
    {
     "data": {
      "text/html": [
       "<div>\n",
       "<style scoped>\n",
       "    .dataframe tbody tr th:only-of-type {\n",
       "        vertical-align: middle;\n",
       "    }\n",
       "\n",
       "    .dataframe tbody tr th {\n",
       "        vertical-align: top;\n",
       "    }\n",
       "\n",
       "    .dataframe thead th {\n",
       "        text-align: right;\n",
       "    }\n",
       "</style>\n",
       "<table border=\"1\" class=\"dataframe\">\n",
       "  <thead>\n",
       "    <tr style=\"text-align: right;\">\n",
       "      <th></th>\n",
       "      <th>Div</th>\n",
       "      <th>Season</th>\n",
       "      <th>Date</th>\n",
       "      <th>HomeTeam</th>\n",
       "      <th>AwayTeam</th>\n",
       "      <th>FTHG</th>\n",
       "      <th>FTAG</th>\n",
       "      <th>FTR</th>\n",
       "      <th>HTHG</th>\n",
       "      <th>HTAG</th>\n",
       "      <th>...</th>\n",
       "      <th>BbAv&lt;2.5</th>\n",
       "      <th>BbAH</th>\n",
       "      <th>BbAHh</th>\n",
       "      <th>BbMxAHH</th>\n",
       "      <th>BbAvAHH</th>\n",
       "      <th>BbMxAHA</th>\n",
       "      <th>BbAvAHA</th>\n",
       "      <th>PSCH</th>\n",
       "      <th>PSCD</th>\n",
       "      <th>PSCA</th>\n",
       "    </tr>\n",
       "  </thead>\n",
       "  <tbody>\n",
       "    <tr>\n",
       "      <th>0</th>\n",
       "      <td>ENG4</td>\n",
       "      <td>2016/17</td>\n",
       "      <td>2016-08-06</td>\n",
       "      <td>Accrington</td>\n",
       "      <td>Doncaster</td>\n",
       "      <td>3</td>\n",
       "      <td>2</td>\n",
       "      <td>H</td>\n",
       "      <td>2</td>\n",
       "      <td>1</td>\n",
       "      <td>...</td>\n",
       "      <td>1.79</td>\n",
       "      <td>28</td>\n",
       "      <td>0.00</td>\n",
       "      <td>1.93</td>\n",
       "      <td>1.88</td>\n",
       "      <td>2.03</td>\n",
       "      <td>1.94</td>\n",
       "      <td>2.57</td>\n",
       "      <td>3.19</td>\n",
       "      <td>3.11</td>\n",
       "    </tr>\n",
       "    <tr>\n",
       "      <th>1</th>\n",
       "      <td>ENG4</td>\n",
       "      <td>2016/17</td>\n",
       "      <td>2016-08-06</td>\n",
       "      <td>Blackpool</td>\n",
       "      <td>Exeter</td>\n",
       "      <td>2</td>\n",
       "      <td>0</td>\n",
       "      <td>H</td>\n",
       "      <td>1</td>\n",
       "      <td>0</td>\n",
       "      <td>...</td>\n",
       "      <td>1.76</td>\n",
       "      <td>28</td>\n",
       "      <td>-0.50</td>\n",
       "      <td>2.28</td>\n",
       "      <td>2.21</td>\n",
       "      <td>1.71</td>\n",
       "      <td>1.67</td>\n",
       "      <td>2.47</td>\n",
       "      <td>3.44</td>\n",
       "      <td>3.03</td>\n",
       "    </tr>\n",
       "    <tr>\n",
       "      <th>2</th>\n",
       "      <td>ENG4</td>\n",
       "      <td>2016/17</td>\n",
       "      <td>2016-08-06</td>\n",
       "      <td>Cambridge</td>\n",
       "      <td>Barnet</td>\n",
       "      <td>1</td>\n",
       "      <td>1</td>\n",
       "      <td>D</td>\n",
       "      <td>0</td>\n",
       "      <td>0</td>\n",
       "      <td>...</td>\n",
       "      <td>1.76</td>\n",
       "      <td>29</td>\n",
       "      <td>-0.50</td>\n",
       "      <td>1.83</td>\n",
       "      <td>1.79</td>\n",
       "      <td>2.13</td>\n",
       "      <td>2.03</td>\n",
       "      <td>1.77</td>\n",
       "      <td>3.88</td>\n",
       "      <td>4.93</td>\n",
       "    </tr>\n",
       "    <tr>\n",
       "      <th>3</th>\n",
       "      <td>ENG4</td>\n",
       "      <td>2016/17</td>\n",
       "      <td>2016-08-06</td>\n",
       "      <td>Cheltenham</td>\n",
       "      <td>Leyton Orient</td>\n",
       "      <td>1</td>\n",
       "      <td>1</td>\n",
       "      <td>D</td>\n",
       "      <td>0</td>\n",
       "      <td>1</td>\n",
       "      <td>...</td>\n",
       "      <td>1.75</td>\n",
       "      <td>28</td>\n",
       "      <td>0.00</td>\n",
       "      <td>1.99</td>\n",
       "      <td>1.92</td>\n",
       "      <td>1.96</td>\n",
       "      <td>1.89</td>\n",
       "      <td>2.83</td>\n",
       "      <td>3.33</td>\n",
       "      <td>2.69</td>\n",
       "    </tr>\n",
       "    <tr>\n",
       "      <th>4</th>\n",
       "      <td>ENG4</td>\n",
       "      <td>2016/17</td>\n",
       "      <td>2016-08-06</td>\n",
       "      <td>Crawley Town</td>\n",
       "      <td>Wycombe</td>\n",
       "      <td>1</td>\n",
       "      <td>0</td>\n",
       "      <td>H</td>\n",
       "      <td>0</td>\n",
       "      <td>0</td>\n",
       "      <td>...</td>\n",
       "      <td>1.73</td>\n",
       "      <td>29</td>\n",
       "      <td>0.25</td>\n",
       "      <td>1.80</td>\n",
       "      <td>1.75</td>\n",
       "      <td>2.18</td>\n",
       "      <td>2.10</td>\n",
       "      <td>3.69</td>\n",
       "      <td>3.30</td>\n",
       "      <td>2.22</td>\n",
       "    </tr>\n",
       "  </tbody>\n",
       "</table>\n",
       "<p>5 rows × 66 columns</p>\n",
       "</div>"
      ],
      "text/plain": [
       "    Div   Season        Date      HomeTeam       AwayTeam  FTHG  FTAG FTR  \\\n",
       "0  ENG4  2016/17  2016-08-06    Accrington      Doncaster     3     2   H   \n",
       "1  ENG4  2016/17  2016-08-06     Blackpool         Exeter     2     0   H   \n",
       "2  ENG4  2016/17  2016-08-06     Cambridge         Barnet     1     1   D   \n",
       "3  ENG4  2016/17  2016-08-06    Cheltenham  Leyton Orient     1     1   D   \n",
       "4  ENG4  2016/17  2016-08-06  Crawley Town        Wycombe     1     0   H   \n",
       "\n",
       "   HTHG  HTAG  ... BbAv<2.5 BbAH  BbAHh  BbMxAHH  BbAvAHH  BbMxAHA  BbAvAHA  \\\n",
       "0     2     1  ...     1.79   28   0.00     1.93     1.88     2.03     1.94   \n",
       "1     1     0  ...     1.76   28  -0.50     2.28     2.21     1.71     1.67   \n",
       "2     0     0  ...     1.76   29  -0.50     1.83     1.79     2.13     2.03   \n",
       "3     0     1  ...     1.75   28   0.00     1.99     1.92     1.96     1.89   \n",
       "4     0     0  ...     1.73   29   0.25     1.80     1.75     2.18     2.10   \n",
       "\n",
       "   PSCH  PSCD  PSCA  \n",
       "0  2.57  3.19  3.11  \n",
       "1  2.47  3.44  3.03  \n",
       "2  1.77  3.88  4.93  \n",
       "3  2.83  3.33  2.69  \n",
       "4  3.69  3.30  2.22  \n",
       "\n",
       "[5 rows x 66 columns]"
      ]
     },
     "execution_count": 252,
     "metadata": {},
     "output_type": "execute_result"
    }
   ],
   "source": [
    "main liga"
   ]
  },
  {
   "cell_type": "code",
   "execution_count": null,
   "metadata": {},
   "outputs": [],
   "source": []
  }
 ],
 "metadata": {
  "kernelspec": {
   "display_name": "Python 3",
   "language": "python",
   "name": "python3"
  },
  "language_info": {
   "codemirror_mode": {
    "name": "ipython",
    "version": 3
   },
   "file_extension": ".py",
   "mimetype": "text/x-python",
   "name": "python",
   "nbconvert_exporter": "python",
   "pygments_lexer": "ipython3",
   "version": "3.7.6"
  }
 },
 "nbformat": 4,
 "nbformat_minor": 4
}
